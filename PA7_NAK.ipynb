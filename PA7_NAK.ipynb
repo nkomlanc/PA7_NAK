{
 "cells": [
  {
   "cell_type": "code",
   "execution_count": null,
   "metadata": {},
   "outputs": [],
   "source": []
  },
  {
   "cell_type": "markdown",
   "metadata": {},
   "source": [
    "### Nick Komlanc\n",
    "### Assignment 7\n",
    "### Version 1\n",
    "### Fall 2020"
   ]
  },
  {
   "cell_type": "code",
   "execution_count": null,
   "metadata": {},
   "outputs": [],
   "source": []
  },
  {
   "cell_type": "markdown",
   "metadata": {},
   "source": [
    "a)"
   ]
  },
  {
   "cell_type": "code",
   "execution_count": 2,
   "metadata": {},
   "outputs": [],
   "source": [
    "import itertools as it"
   ]
  },
  {
   "cell_type": "code",
   "execution_count": 50,
   "metadata": {},
   "outputs": [],
   "source": [
    "def trigram_word(word):\n",
    "    strings=list(it.permutations(word, 3))\n",
    "    for i in strings:\n",
    "        a, b, c= i\n",
    "        print(a+b+c, end=\" \")\n",
    "    return"
   ]
  },
  {
   "cell_type": "code",
   "execution_count": 52,
   "metadata": {},
   "outputs": [
    {
     "name": "stdout",
     "output_type": "stream",
     "text": [
      "Enter a five letter word: saves\n",
      "sav sae sas sva sve svs sea sev ses ssa ssv sse asv ase ass avs ave avs aes aev aes ass asv ase vsa vse vss vas vae vas ves vea ves vss vsa vse esa esv ess eas eav eas evs eva evs ess esa esv ssa ssv sse sas sav sae svs sva sve ses sea sev /n\n",
      "Enter a five letter word: homes\n",
      "hom hoe hos hmo hme hms heo hem hes hso hsm hse ohm ohe ohs omh ome oms oeh oem oes osh osm ose mho mhe mhs moh moe mos meh meo mes msh mso mse eho ehm ehs eoh eom eos emh emo ems esh eso esm sho shm she soh som soe smh smo sme seh seo sem /n\n",
      "Enter a five letter word: 0\n"
     ]
    }
   ],
   "source": [
    "x=input(\"Enter a five letter word: \")\n",
    "while x != \"0\":\n",
    "    if len(x)==5:\n",
    "        trigram_word(x)\n",
    "        print(\"/n\")\n",
    "        x=input(\"Enter a five letter word: \")\n",
    "    else:\n",
    "        print(\"Word must be five letters long\")\n",
    "        print(\"/n\")\n",
    "        x=input(\"Enter a five letter word: \")"
   ]
  },
  {
   "cell_type": "code",
   "execution_count": 128,
   "metadata": {},
   "outputs": [],
   "source": [
    "number={\n",
    "    'one': 1,\n",
    "    'two' : 2,\n",
    "    'three': 3,\n",
    "    'four': 4,\n",
    "    'five': 5,\n",
    "    'six': 6,\n",
    "    'seven': 7,\n",
    "    'eight': 8,\n",
    "    'nine': 9\n",
    "}"
   ]
  },
  {
   "cell_type": "code",
   "execution_count": 129,
   "metadata": {},
   "outputs": [],
   "source": [
    "number_op=dict({\n",
    "    'one': '1',\n",
    "    'two' : '2',\n",
    "    'three': '3',\n",
    "    'four': '4',\n",
    "    'five': '5',\n",
    "    'six': '6',\n",
    "    'seven': '7',\n",
    "    'eight': '8',\n",
    "    'nine': '9'\n",
    "})"
   ]
  },
  {
   "cell_type": "code",
   "execution_count": 14,
   "metadata": {},
   "outputs": [
    {
     "ename": "SyntaxError",
     "evalue": "invalid syntax (<ipython-input-14-65eaafdc796f>, line 11)",
     "output_type": "error",
     "traceback": [
      "\u001b[1;36m  File \u001b[1;32m\"<ipython-input-14-65eaafdc796f>\"\u001b[1;36m, line \u001b[1;32m11\u001b[0m\n\u001b[1;33m    elif w[1]=='dividedby':\u001b[0m\n\u001b[1;37m    ^\u001b[0m\n\u001b[1;31mSyntaxError\u001b[0m\u001b[1;31m:\u001b[0m invalid syntax\n"
     ]
    }
   ],
   "source": [
    "def operations():\n",
    "    w= numbers.split()\n",
    "    c=number_op[w[0]]\n",
    "    e=number_op[w[-1]]\n",
    "    if w[1]== 'plus':\n",
    "        return(f'{c} + {e}= {c + e}')\n",
    "    elif w[1]== 'minus':\n",
    "        return(f\"{c} - {e} = {c - e}\")\n",
    "    elif w[1]=='times':\n",
    "        return((f'{c}*{e} = {c*e})')\n",
    "    elif w[1]=='dividedby':\n",
    "        return(f'({c} / {e}={c/e})')\n",
    "    else:\n",
    "        return(\"I cannot evaluate this expression\")"
   ]
  },
  {
   "cell_type": "code",
   "execution_count": 15,
   "metadata": {},
   "outputs": [
    {
     "name": "stdout",
     "output_type": "stream",
     "text": [
      "Enter a simple arithmetic expression in words: five plus five\n"
     ]
    },
    {
     "ename": "NameError",
     "evalue": "name 'operations' is not defined",
     "output_type": "error",
     "traceback": [
      "\u001b[1;31m---------------------------------------------------------------------------\u001b[0m",
      "\u001b[1;31mNameError\u001b[0m                                 Traceback (most recent call last)",
      "\u001b[1;32m<ipython-input-15-c7337e143d59>\u001b[0m in \u001b[0;36m<module>\u001b[1;34m\u001b[0m\n\u001b[0;32m      1\u001b[0m \u001b[0mtext_operations\u001b[0m\u001b[1;33m=\u001b[0m \u001b[0minput\u001b[0m\u001b[1;33m(\u001b[0m\u001b[1;34m\"Enter a simple arithmetic expression in words: \"\u001b[0m\u001b[1;33m)\u001b[0m\u001b[1;33m\u001b[0m\u001b[1;33m\u001b[0m\u001b[0m\n\u001b[0;32m      2\u001b[0m \u001b[1;32mwhile\u001b[0m \u001b[0mtext_operations\u001b[0m \u001b[1;33m!=\u001b[0m \u001b[1;34m\"0\"\u001b[0m\u001b[1;33m:\u001b[0m\u001b[1;33m\u001b[0m\u001b[1;33m\u001b[0m\u001b[0m\n\u001b[1;32m----> 3\u001b[1;33m     \u001b[0mprint\u001b[0m\u001b[1;33m(\u001b[0m\u001b[0moperations\u001b[0m\u001b[1;33m)\u001b[0m\u001b[1;33m\u001b[0m\u001b[1;33m\u001b[0m\u001b[0m\n\u001b[0m\u001b[0;32m      4\u001b[0m     \u001b[0mtext_operations\u001b[0m\u001b[1;33m=\u001b[0m \u001b[0minput\u001b[0m\u001b[1;33m(\u001b[0m\u001b[1;34m\"Enter a simple arithmetic expression in words: \"\u001b[0m\u001b[1;33m)\u001b[0m\u001b[1;33m\u001b[0m\u001b[1;33m\u001b[0m\u001b[0m\n",
      "\u001b[1;31mNameError\u001b[0m: name 'operations' is not defined"
     ]
    }
   ],
   "source": [
    "text_operations= input(\"Enter a simple arithmetic expression in words: \")\n",
    "while text_operations != \"0\":\n",
    "    print(operations)\n",
    "    text_operations= input(\"Enter a simple arithmetic expression in words: \")"
   ]
  },
  {
   "cell_type": "code",
   "execution_count": null,
   "metadata": {},
   "outputs": [],
   "source": []
  },
  {
   "cell_type": "code",
   "execution_count": null,
   "metadata": {},
   "outputs": [],
   "source": []
  }
 ],
 "metadata": {
  "kernelspec": {
   "display_name": "Python 3",
   "language": "python",
   "name": "python3"
  },
  "language_info": {
   "codemirror_mode": {
    "name": "ipython",
    "version": 3
   },
   "file_extension": ".py",
   "mimetype": "text/x-python",
   "name": "python",
   "nbconvert_exporter": "python",
   "pygments_lexer": "ipython3",
   "version": "3.8.3"
  }
 },
 "nbformat": 4,
 "nbformat_minor": 4
}
